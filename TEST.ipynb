{
 "cells": [
  {
   "cell_type": "code",
   "execution_count": 1,
   "metadata": {},
   "outputs": [],
   "source": [
    "import os\n",
    "import cv2\n",
    "import urllib\n",
    "import numpy as np\n",
    "import urllib.request\n",
    "from zipfile import ZipFile\n",
    "import matplotlib.pyplot as plt\n",
    "\n",
    "\n",
    "from lib.layers import *\n",
    "from lib.activations import *\n",
    "from lib.metrics import *\n",
    "from lib.optimizers import *\n",
    "from lib.model import Model"
   ]
  },
  {
   "cell_type": "code",
   "execution_count": 4,
   "metadata": {},
   "outputs": [],
   "source": [
    "def load_mnist_dataset(dataset, path):\n",
    "    labels = os.listdir(os.path.join(path, dataset))\n",
    "    X = []\n",
    "    y = []\n",
    "    \n",
    "    for label in labels:\n",
    "        for file in os.listdir(os.path.join(path, dataset, label)):\n",
    "            image = cv2.imread(os.path.join(path, dataset, label, file), cv2.IMREAD_UNCHANGED)\n",
    "            X.append(image)\n",
    "            y.append(label)\n",
    "    \n",
    "    return np.array(X), np.array(y).astype('uint8')\n",
    "\n",
    "def create_data_mnist(path):\n",
    "    X, y = load_mnist_dataset('train', path)\n",
    "    X_test, y_test = load_mnist_dataset('test', path)    \n",
    "    \n",
    "    return X, y, X_test, y_test"
   ]
  },
  {
   "cell_type": "code",
   "execution_count": 3,
   "metadata": {},
   "outputs": [
    {
     "name": "stdout",
     "output_type": "stream",
     "text": [
      "Downloading https://nnfs.io/datasets/fashion_mnist_images.zip and saving as fashion_mnist_images.zip...\n",
      "Unzipping images...\n"
     ]
    }
   ],
   "source": [
    "URL = \"https://nnfs.io/datasets/fashion_mnist_images.zip\"\n",
    "FILE = \"fashion_mnist_images.zip\"\n",
    "FOLDER = \"fashion_mnist_images\"\n",
    "\n",
    "if not os.path.isfile(FILE):\n",
    "    print(f'Downloading {URL} and saving as {FILE}...')\n",
    "    urllib.request.urlretrieve(URL, FILE)\n",
    "\n",
    "print('Unzipping images...')\n",
    "with ZipFile(FILE) as zip_images:\n",
    "    zip_images.extractall(FOLDER)"
   ]
  },
  {
   "cell_type": "code",
   "execution_count": 37,
   "metadata": {},
   "outputs": [],
   "source": [
    "X, y, X_test, y_test = create_data_mnist('fashion_mnist_images')"
   ]
  },
  {
   "cell_type": "code",
   "execution_count": 38,
   "metadata": {},
   "outputs": [],
   "source": [
    "keys = np.array(range(X.shape[0]))\n",
    "np.random.shuffle(keys)\n",
    "X = X[keys]\n",
    "y = y[keys]"
   ]
  },
  {
   "cell_type": "code",
   "execution_count": 39,
   "metadata": {},
   "outputs": [
    {
     "name": "stdout",
     "output_type": "stream",
     "text": [
      "-1.0 1.0\n",
      "(12000, 28, 28)\n"
     ]
    }
   ],
   "source": [
    "X = (X.astype(np.float32) - 127.5) / 127.5\n",
    "X_test = (X_test.astype(np.float32) - 127.5) / 127.5\n",
    "\n",
    "print(X.min(), X.max())\n",
    "print(X.shape)"
   ]
  },
  {
   "cell_type": "code",
   "execution_count": 40,
   "metadata": {},
   "outputs": [],
   "source": [
    "X = X.reshape(X.shape[0], -1)\n",
    "X_test = X_test.reshape(X_test.shape[0], -1)"
   ]
  },
  {
   "cell_type": "code",
   "execution_count": 41,
   "metadata": {},
   "outputs": [
    {
     "name": "stdout",
     "output_type": "stream",
     "text": [
      "Class: 0\n"
     ]
    },
    {
     "data": {
      "image/png": "[encoded data removed]",
      "text/plain": [
       "<Figure size 640x480 with 1 Axes>"
      ]
     },
     "metadata": {},
     "output_type": "display_data"
    }
   ],
   "source": [
    "c = 0\n",
    "\n",
    "print(\"Class:\", y[c])\n",
    "plt.imshow((X[c].reshape(28, 28)))\n",
    "plt.show()"
   ]
  },
  {
   "cell_type": "code",
   "execution_count": 42,
   "metadata": {},
   "outputs": [
    {
     "name": "stdout",
     "output_type": "stream",
     "text": [
      "(12000, 784) (12000,)\n"
     ]
    }
   ],
   "source": [
    "print(X.shape, y.shape)"
   ]
  },
  {
   "cell_type": "code",
   "execution_count": 43,
   "metadata": {},
   "outputs": [
    {
     "name": "stdout",
     "output_type": "stream",
     "text": [
      "(12000, 784) (12000, 1)\n"
     ]
    }
   ],
   "source": [
    "# ONLY FOR BIARY\n",
    "\n",
    "\n",
    "y = y.reshape(-1, 1) # Now classes are binary\n",
    "y_test = y_test.reshape(-1, 1) # Now classes are binary\n",
    "\n",
    "\n",
    "print(X.shape, y.shape)"
   ]
  },
  {
   "cell_type": "code",
   "execution_count": 48,
   "metadata": {},
   "outputs": [
    {
     "name": "stdout",
     "output_type": "stream",
     "text": [
      "epoch: 1\n",
      "    step: 0, acc: 0.945, loss: 0.680 (data_loss: 0.680,reg_loss: 0.000), lr: 0.001\n",
      "    step: 1, acc: 1.000, loss: 0.741 (data_loss: 0.741,reg_loss: 0.000), lr: 0.000999900009999\n",
      "training, acc: 103.360, loss: 0.702 (data_loss: 0.702, reg_loss: 0.000), lr: 0.000999900009999\n",
      "validation, acc: 107.840,loss: 0.693\n",
      "\n"
     ]
    }
   ],
   "source": [
    "\n",
    "\n",
    "model = Model()\n",
    "# Add layers\n",
    "model.add(Layer_Dense(X.shape[1], 128))\n",
    "model.add(Activation_ReLU())\n",
    "model.add(Layer_Dense(128, 128))\n",
    "model.add(Activation_ReLU())\n",
    "model.add(Layer_Dropout(0.2))\n",
    "model.add(Layer_Dense(128, 128))\n",
    "model.add(Activation_ReLU())\n",
    "model.add(Layer_Dropout(0.2))\n",
    "model.add(Layer_Dense(128, 1))\n",
    "model.add(Activation_Sigmoid())\n",
    "\n",
    "model.set(\n",
    "    loss=Loss_BinaryCrossentropy(),\n",
    "    optimizer=Optimizer_Adam(learning_rate=0.001, decay=1e-4),\n",
    "    accuracy=Accuracy_Categorical()\n",
    ")\n",
    "\n",
    "model.finalize()\n",
    "\n",
    "model.train(\n",
    "    X,\n",
    "    y, \n",
    "    validation_data=(X, y),\n",
    "    epochs=10, \n",
    "    batch_size=128, \n",
    "    print_every=100\n",
    ")"
   ]
  },
  {
   "attachments": {},
   "cell_type": "markdown",
   "metadata": {},
   "source": [
    "asdsd"
   ]
  },
  {
   "cell_type": "code",
   "execution_count": 47,
   "metadata": {},
   "outputs": [
    {
     "name": "stdout",
     "output_type": "stream",
     "text": [
      "(200, 2) (200,)\n",
      "(200, 2) (200, 1)\n",
      "epoch: 1\n",
      "    step: 0, acc: 0.055, loss: 0.700 (data_loss: 0.700,reg_loss: 0.000), lr: 0.001\n",
      "    step: 1, acc: 0.278, loss: 0.682 (data_loss: 0.682,reg_loss: 0.000), lr: 0.0009999995000002499\n",
      "training, acc: 11.680, loss: 0.694 (data_loss: 0.694, reg_loss: 0.000), lr: 0.0009999995000002499\n",
      "validation, acc: 28.800,loss: 0.693\n",
      "\n",
      "[0. 0.]\n"
     ]
    }
   ],
   "source": [
    "from nnfs.datasets import spiral_data\n",
    "\n",
    "X, y = spiral_data(samples=100, classes=2)\n",
    "\n",
    "\n",
    "print(X.shape, y.shape)\n",
    "y = y.reshape(-1, 1)\n",
    "print(X.shape, y.shape)\n",
    "\n",
    "model = Model()\n",
    "\n",
    "model.add(Layer_Dense(2, 64))\n",
    "model.add(Activation_ReLU())\n",
    "model.add(Layer_Dense(64, 1))\n",
    "model.add(Activation_Sigmoid())\n",
    "\n",
    "model.set(\n",
    "    loss=Loss_BinaryCrossentropy(),\n",
    "    optimizer=Optimizer_Adam(decay=5e-7),\n",
    "    accuracy=Accuracy_Categorical()\n",
    ")\n",
    "\n",
    "model.finalize()\n",
    "\n",
    "model.train(\n",
    "    X,\n",
    "    y, \n",
    "    validation_data=(X, y),\n",
    "    epochs=1, \n",
    "    batch_size=128, \n",
    "    print_every=100\n",
    ")\n",
    "\n",
    "print(X[0])\n"
   ]
  },
  {
   "cell_type": "code",
   "execution_count": null,
   "metadata": {},
   "outputs": [],
   "source": []
  }
 ],
 "metadata": {
  "kernelspec": {
   "display_name": "Python 3",
   "language": "python",
   "name": "python3"
  },
  "language_info": {
   "codemirror_mode": {
    "name": "ipython",
    "version": 3
   },
   "file_extension": ".py",
   "mimetype": "text/x-python",
   "name": "python",
   "nbconvert_exporter": "python",
   "pygments_lexer": "ipython3",
   "version": "3.10.6"
  },
  "orig_nbformat": 4
 },
 "nbformat": 4,
 "nbformat_minor": 2
}
