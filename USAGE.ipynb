{
 "cells": [
  {
   "cell_type": "code",
   "execution_count": 1,
   "metadata": {},
   "outputs": [],
   "source": [
    "import os\n",
    "import cv2\n",
    "import urllib\n",
    "import numpy as np\n",
    "import urllib.request\n",
    "from zipfile import ZipFile\n",
    "import matplotlib.pyplot as plt\n",
    "\n",
    "\n",
    "from layers import *\n",
    "from activations import *\n",
    "from metrics import *\n",
    "from optimizers import *\n",
    "from model import Model"
   ]
  },
  {
   "cell_type": "code",
   "execution_count": 2,
   "metadata": {},
   "outputs": [],
   "source": [
    "# URL = \"https://nnfs.io/datasets/fashion_mnist_images.zip\"\n",
    "# FILE = \"fashion_mnist_images.zip\"\n",
    "# FOLDER = \"fashion_mnist_images\"\n",
    "\n",
    "# if not os.path.isfile(FILE):\n",
    "#     print(f'Downloading {URL} and saving as {FILE}...')\n",
    "#     urllib.request.urlretrieve(URL, FILE)\n",
    "\n",
    "# print('Unzipping images...')\n",
    "# with ZipFile(FILE) as zip_images:\n",
    "#     zip_images.extractall(FOLDER)"
   ]
  },
  {
   "cell_type": "code",
   "execution_count": 3,
   "metadata": {},
   "outputs": [],
   "source": [
    "def load_mnist_dataset(dataset, path):\n",
    "    labels = os.listdir(os.path.join(path, dataset))\n",
    "    X = []\n",
    "    y = []\n",
    "    \n",
    "    for label in labels:\n",
    "        for file in os.listdir(os.path.join(path, dataset, label)):\n",
    "            image = cv2.imread(os.path.join(path, dataset, label, file), cv2.IMREAD_UNCHANGED)            \n",
    "            X.append(image)\n",
    "            y.append(label)\n",
    "    \n",
    "    return np.array(X), np.array(y).astype('uint8')\n",
    "\n",
    "def create_data_mnist(path):\n",
    "    X, y = load_mnist_dataset('train', path)\n",
    "    X_test, y_test = load_mnist_dataset('test', path)\n",
    "    X_valid, y_valid = load_mnist_dataset('valid', path)\n",
    "    \n",
    "    return X, y, X_test, y_test, X_valid, y_valid"
   ]
  },
  {
   "cell_type": "code",
   "execution_count": 4,
   "metadata": {},
   "outputs": [],
   "source": [
    "X, y, X_test, y_test, X_valid, y_valid = create_data_mnist('fashion_mnist_images')"
   ]
  },
  {
   "cell_type": "code",
   "execution_count": 5,
   "metadata": {},
   "outputs": [],
   "source": [
    "keys = np.array(range(X.shape[0]))\n",
    "np.random.shuffle(keys)\n",
    "X = X[keys]\n",
    "y = y[keys]"
   ]
  },
  {
   "cell_type": "code",
   "execution_count": 6,
   "metadata": {},
   "outputs": [
    {
     "name": "stdout",
     "output_type": "stream",
     "text": [
      "-1.0 1.0\n",
      "(50000, 28, 28)\n"
     ]
    }
   ],
   "source": [
    "X = (X.astype(np.float32) - 127.5) / 127.5\n",
    "X_test = (X_test.astype(np.float32) - 127.5) / 127.5\n",
    "X_valid = (X_valid.astype(np.float32) - 127.5) / 127.5\n",
    "\n",
    "print(X.min(), X.max())\n",
    "print(X.shape)"
   ]
  },
  {
   "cell_type": "code",
   "execution_count": 7,
   "metadata": {},
   "outputs": [],
   "source": [
    "X = X.reshape(X.shape[0], -1)\n",
    "X_test = X_test.reshape(X_test.shape[0], -1)\n",
    "X_valid = X_valid.reshape(X_valid.shape[0], -1)"
   ]
  },
  {
   "cell_type": "code",
   "execution_count": 8,
   "metadata": {},
   "outputs": [
    {
     "name": "stdout",
     "output_type": "stream",
     "text": [
      "Class: 1\n"
     ]
    },
    {
     "data": {
      "image/png": "[encoded data removed]",
      "text/plain": [
       "<Figure size 640x480 with 1 Axes>"
      ]
     },
     "metadata": {},
     "output_type": "display_data"
    }
   ],
   "source": [
    "c = 0\n",
    "\n",
    "print(\"Class:\", y[c])\n",
    "plt.imshow((X[c].reshape(28, 28)))\n",
    "plt.show()"
   ]
  },
  {
   "cell_type": "code",
   "execution_count": 9,
   "metadata": {},
   "outputs": [
    {
     "name": "stdout",
     "output_type": "stream",
     "text": [
      "epoch: 1\n",
      "    step: 0, acc: 0.039, loss: 3.575 (data_loss: 3.575,reg_loss: 0.000), lr: 0.001\n",
      "    step: 100, acc: 0.695, loss: 0.791 (data_loss: 0.791,reg_loss: 0.000), lr: 0.0009900990099009901\n",
      "    step: 200, acc: 0.781, loss: 0.539 (data_loss: 0.539,reg_loss: 0.000), lr: 0.000980392156862745\n",
      "    step: 300, acc: 0.812, loss: 0.570 (data_loss: 0.570,reg_loss: 0.000), lr: 0.0009708737864077671\n",
      "    step: 390, acc: 0.900, loss: 0.324 (data_loss: 0.324,reg_loss: 0.000), lr: 0.0009624639076034649\n",
      "training, acc: 0.766, loss: 0.654 (data_loss: 0.654, reg_loss: 0.000), lr: 0.0009624639076034649\n",
      "validation, acc: 0.842,loss: 0.430\n",
      "\n",
      "epoch: 2\n",
      "    step: 0, acc: 0.773, loss: 0.505 (data_loss: 0.505,reg_loss: 0.000), lr: 0.0009623712828409201\n",
      "    step: 100, acc: 0.820, loss: 0.507 (data_loss: 0.507,reg_loss: 0.000), lr: 0.0009531979792202842\n",
      "    step: 200, acc: 0.812, loss: 0.383 (data_loss: 0.383,reg_loss: 0.000), lr: 0.0009441979038806535\n",
      "    step: 300, acc: 0.852, loss: 0.414 (data_loss: 0.414,reg_loss: 0.000), lr: 0.0009353661958656815\n",
      "    step: 390, acc: 0.938, loss: 0.247 (data_loss: 0.247,reg_loss: 0.000), lr: 0.0009275577404693441\n",
      "training, acc: 0.842, loss: 0.440 (data_loss: 0.440, reg_loss: 0.000), lr: 0.0009275577404693441\n",
      "validation, acc: 0.854,loss: 0.389\n",
      "\n",
      "epoch: 3\n",
      "    step: 0, acc: 0.820, loss: 0.431 (data_loss: 0.431,reg_loss: 0.000), lr: 0.0009274717121127806\n",
      "    step: 100, acc: 0.859, loss: 0.398 (data_loss: 0.398,reg_loss: 0.000), lr: 0.0009189487226612755\n",
      "    step: 200, acc: 0.844, loss: 0.331 (data_loss: 0.331,reg_loss: 0.000), lr: 0.0009105809506465125\n",
      "    step: 300, acc: 0.875, loss: 0.371 (data_loss: 0.371,reg_loss: 0.000), lr: 0.0009023641941887746\n",
      "    step: 390, acc: 0.963, loss: 0.171 (data_loss: 0.171,reg_loss: 0.000), lr: 0.0008950948800572861\n",
      "training, acc: 0.860, loss: 0.390 (data_loss: 0.390, reg_loss: 0.000), lr: 0.0008950948800572861\n",
      "validation, acc: 0.868,loss: 0.363\n",
      "\n",
      "epoch: 4\n",
      "    step: 0, acc: 0.875, loss: 0.346 (data_loss: 0.346,reg_loss: 0.000), lr: 0.0008950147677436679\n",
      "    step: 100, acc: 0.820, loss: 0.394 (data_loss: 0.394,reg_loss: 0.000), lr: 0.0008870753126940477\n",
      "    step: 200, acc: 0.836, loss: 0.308 (data_loss: 0.308,reg_loss: 0.000), lr: 0.0008792754770069463\n",
      "    step: 300, acc: 0.898, loss: 0.309 (data_loss: 0.309,reg_loss: 0.000), lr: 0.0008716116098666434\n",
      "    step: 390, acc: 0.938, loss: 0.196 (data_loss: 0.196,reg_loss: 0.000), lr: 0.0008648274669203495\n",
      "training, acc: 0.870, loss: 0.359 (data_loss: 0.359, reg_loss: 0.000), lr: 0.0008648274669203495\n",
      "validation, acc: 0.873,loss: 0.353\n",
      "\n",
      "epoch: 5\n",
      "    step: 0, acc: 0.875, loss: 0.294 (data_loss: 0.294,reg_loss: 0.000), lr: 0.0008647526807333102\n",
      "    step: 100, acc: 0.859, loss: 0.326 (data_loss: 0.326,reg_loss: 0.000), lr: 0.0008573388203017832\n",
      "    step: 200, acc: 0.852, loss: 0.307 (data_loss: 0.307,reg_loss: 0.000), lr: 0.0008500510030601836\n",
      "    step: 300, acc: 0.891, loss: 0.314 (data_loss: 0.314,reg_loss: 0.000), lr: 0.0008428860418071477\n",
      "    step: 390, acc: 0.900, loss: 0.216 (data_loss: 0.216,reg_loss: 0.000), lr: 0.0008365400702693659\n",
      "training, acc: 0.877, loss: 0.337 (data_loss: 0.337, reg_loss: 0.000), lr: 0.0008365400702693659\n",
      "validation, acc: 0.872,loss: 0.358\n",
      "\n",
      "epoch: 6\n",
      "    step: 0, acc: 0.891, loss: 0.278 (data_loss: 0.278,reg_loss: 0.000), lr: 0.0008364700961940611\n",
      "    step: 100, acc: 0.859, loss: 0.331 (data_loss: 0.331,reg_loss: 0.000), lr: 0.0008295313148071339\n",
      "    step: 200, acc: 0.828, loss: 0.357 (data_loss: 0.357,reg_loss: 0.000), lr: 0.0008227067050596463\n",
      "    step: 300, acc: 0.883, loss: 0.329 (data_loss: 0.329,reg_loss: 0.000), lr: 0.0008159934720522236\n",
      "    step: 390, acc: 0.938, loss: 0.168 (data_loss: 0.168,reg_loss: 0.000), lr: 0.0008100445524503849\n",
      "training, acc: 0.881, loss: 0.323 (data_loss: 0.323, reg_loss: 0.000), lr: 0.0008100445524503849\n",
      "validation, acc: 0.878,loss: 0.338\n",
      "\n",
      "epoch: 7\n",
      "    step: 0, acc: 0.891, loss: 0.271 (data_loss: 0.271,reg_loss: 0.000), lr: 0.0008099789405475458\n",
      "    step: 100, acc: 0.883, loss: 0.315 (data_loss: 0.315,reg_loss: 0.000), lr: 0.0008034709946970915\n",
      "    step: 200, acc: 0.867, loss: 0.263 (data_loss: 0.263,reg_loss: 0.000), lr: 0.0007970667941973539\n",
      "    step: 300, acc: 0.875, loss: 0.301 (data_loss: 0.301,reg_loss: 0.000), lr: 0.0007907638779060573\n",
      "    step: 390, acc: 0.975, loss: 0.138 (data_loss: 0.138,reg_loss: 0.000), lr: 0.0007851758793969849\n",
      "training, acc: 0.887, loss: 0.307 (data_loss: 0.307, reg_loss: 0.000), lr: 0.0007851758793969849\n",
      "validation, acc: 0.878,loss: 0.337\n",
      "\n",
      "epoch: 8\n",
      "    step: 0, acc: 0.922, loss: 0.246 (data_loss: 0.246,reg_loss: 0.000), lr: 0.0007851142341210646\n",
      "    step: 100, acc: 0.867, loss: 0.303 (data_loss: 0.303,reg_loss: 0.000), lr: 0.0007789982083041208\n",
      "    step: 200, acc: 0.891, loss: 0.288 (data_loss: 0.288,reg_loss: 0.000), lr: 0.0007729767334003246\n",
      "    step: 300, acc: 0.898, loss: 0.302 (data_loss: 0.302,reg_loss: 0.000), lr: 0.00076704763365805\n",
      "    step: 390, acc: 0.875, loss: 0.208 (data_loss: 0.208,reg_loss: 0.000), lr: 0.0007617886798202179\n",
      "training, acc: 0.893, loss: 0.293 (data_loss: 0.293, reg_loss: 0.000), lr: 0.0007617886798202179\n",
      "validation, acc: 0.886,loss: 0.321\n",
      "\n",
      "epoch: 9\n",
      "    step: 0, acc: 0.930, loss: 0.226 (data_loss: 0.226,reg_loss: 0.000), lr: 0.0007617306520414382\n",
      "    step: 100, acc: 0.883, loss: 0.329 (data_loss: 0.329,reg_loss: 0.000), lr: 0.0007559721802237678\n",
      "    step: 200, acc: 0.875, loss: 0.287 (data_loss: 0.287,reg_loss: 0.000), lr: 0.0007503001200480192\n",
      "    step: 300, acc: 0.859, loss: 0.323 (data_loss: 0.323,reg_loss: 0.000), lr: 0.0007447125409591897\n",
      "    step: 390, acc: 0.912, loss: 0.170 (data_loss: 0.170,reg_loss: 0.000), lr: 0.0007397544015386893\n",
      "training, acc: 0.894, loss: 0.284 (data_loss: 0.284, reg_loss: 0.000), lr: 0.0007397544015386893\n",
      "validation, acc: 0.883,loss: 0.324\n",
      "\n",
      "epoch: 10\n",
      "    step: 0, acc: 0.898, loss: 0.259 (data_loss: 0.259,reg_loss: 0.000), lr: 0.0007396996819291368\n",
      "    step: 100, acc: 0.891, loss: 0.285 (data_loss: 0.285,reg_loss: 0.000), lr: 0.0007342683016374184\n",
      "    step: 200, acc: 0.898, loss: 0.229 (data_loss: 0.229,reg_loss: 0.000), lr: 0.0007289161017566877\n",
      "    step: 300, acc: 0.891, loss: 0.267 (data_loss: 0.267,reg_loss: 0.000), lr: 0.0007236413633403285\n",
      "    step: 390, acc: 0.963, loss: 0.133 (data_loss: 0.133,reg_loss: 0.000), lr: 0.0007189589474441009\n",
      "training, acc: 0.898, loss: 0.271 (data_loss: 0.271, reg_loss: 0.000), lr: 0.0007189589474441009\n",
      "validation, acc: 0.885,loss: 0.319\n",
      "\n"
     ]
    }
   ],
   "source": [
    "model = Model()\n",
    "# Add layers\n",
    "model.add(Layer_Dense(X.shape[1], 128))\n",
    "model.add(Activation_ReLU())\n",
    "model.add(Layer_Dense(128, 128))\n",
    "model.add(Activation_ReLU())\n",
    "model.add(Layer_Dropout(0.2))\n",
    "model.add(Layer_Dense(128, 128))\n",
    "model.add(Activation_ReLU())\n",
    "model.add(Layer_Dropout(0.2))\n",
    "model.add(Layer_Dense(128, 10))\n",
    "model.add(Activation_Softmax())\n",
    "\n",
    "model.set(\n",
    "    loss=Loss_CategoricalCrossentropy(),\n",
    "    optimizer=Optimizer_Adam(learning_rate=0.001, decay=1e-4),\n",
    "    accuracy=Accuracy_Categorical()\n",
    ")\n",
    "\n",
    "model.finalize()\n",
    "\n",
    "model.train(\n",
    "    X,\n",
    "    y, \n",
    "    validation_data=(X_valid, y_valid),\n",
    "    epochs=10, \n",
    "    batch_size=128, \n",
    "    print_every=100\n",
    ")"
   ]
  },
  {
   "cell_type": "code",
   "execution_count": 10,
   "metadata": {},
   "outputs": [
    {
     "name": "stdout",
     "output_type": "stream",
     "text": [
      "Evaluation, acc: 0.877, loss: 0.350\n"
     ]
    }
   ],
   "source": [
    "model.evaluate(X_test, y_test) # Use test set"
   ]
  },
  {
   "cell_type": "code",
   "execution_count": 11,
   "metadata": {},
   "outputs": [],
   "source": [
    "model.save(\"model.m\")\n",
    "model = Model.load(\"model.m\")"
   ]
  },
  {
   "cell_type": "code",
   "execution_count": 22,
   "metadata": {},
   "outputs": [
    {
     "data": {
      "image/png": "[encoded data removed]",
      "text/plain": [
       "<Figure size 640x480 with 1 Axes>"
      ]
     },
     "metadata": {},
     "output_type": "display_data"
    },
    {
     "name": "stdout",
     "output_type": "stream",
     "text": [
      "Prediction: 4, True: 4\n",
      "Coat\n"
     ]
    }
   ],
   "source": [
    "fashion_mnist_labels = {\n",
    "    0: 'T-shirt/top',\n",
    "    1: 'Trouser',\n",
    "    2: 'Pullover',\n",
    "    3: 'Dress',\n",
    "    4: 'Coat',\n",
    "    5: 'Sandal',\n",
    "    6: 'Shirt',\n",
    "    7: 'Sneaker',\n",
    "    8: 'Bag',\n",
    "    9: 'Ankle boot'\n",
    "}\n",
    "\n",
    "img = 131\n",
    "\n",
    "plt.imshow((X_test[img].reshape(28, 28)))\n",
    "plt.show()\n",
    "\n",
    "prediction = model.predict(X_test[img])[0] # Pass image(s) in array\n",
    "print(f\"Prediction: {prediction}, True: {y_test[img]}\")\n",
    "\n",
    "print(fashion_mnist_labels[prediction])"
   ]
  },
  {
   "cell_type": "code",
   "execution_count": null,
   "metadata": {},
   "outputs": [],
   "source": []
  }
 ],
 "metadata": {
  "kernelspec": {
   "display_name": "Python 3",
   "language": "python",
   "name": "python3"
  },
  "language_info": {
   "codemirror_mode": {
    "name": "ipython",
    "version": 3
   },
   "file_extension": ".py",
   "mimetype": "text/x-python",
   "name": "python",
   "nbconvert_exporter": "python",
   "pygments_lexer": "ipython3",
   "version": "3.10.6"
  },
  "orig_nbformat": 4
 },
 "nbformat": 4,
 "nbformat_minor": 2
}
