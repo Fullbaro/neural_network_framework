{
 "cells": [
  {
   "cell_type": "code",
   "execution_count": 1,
   "metadata": {},
   "outputs": [],
   "source": [
    "import os\n",
    "import cv2\n",
    "import urllib\n",
    "import numpy as np\n",
    "import urllib.request\n",
    "from zipfile import ZipFile\n",
    "import matplotlib.pyplot as plt\n",
    "\n",
    "\n",
    "from layers import *\n",
    "from activations import *\n",
    "from metrics import *\n",
    "from optimizers import *\n",
    "from model import Model"
   ]
  },
  {
   "cell_type": "code",
   "execution_count": 4,
   "metadata": {},
   "outputs": [],
   "source": [
    "URL = \"https://nnfs.io/datasets/fashion_mnist_images.zip\"\n",
    "FILE = \"fashion_mnist_images.zip\"\n",
    "FOLDER = \"fashion_mnist_images\""
   ]
  },
  {
   "cell_type": "code",
   "execution_count": 3,
   "metadata": {},
   "outputs": [
    {
     "name": "stdout",
     "output_type": "stream",
     "text": [
      "Downloading https://nnfs.io/datasets/fashion_mnist_images.zip and saving as fashion_mnist_images.zip...\n"
     ]
    }
   ],
   "source": [
    "if not os.path.isfile(FILE):\n",
    "    print(f'Downloading {URL} and saving as {FILE}...')\n",
    "    urllib.request.urlretrieve(URL, FILE)"
   ]
  },
  {
   "cell_type": "code",
   "execution_count": 6,
   "metadata": {},
   "outputs": [
    {
     "name": "stdout",
     "output_type": "stream",
     "text": [
      "Unzipping images...\n"
     ]
    }
   ],
   "source": [
    "print('Unzipping images...')\n",
    "with ZipFile(FILE) as zip_images:\n",
    "    zip_images.extractall(FOLDER)"
   ]
  },
  {
   "cell_type": "code",
   "execution_count": 2,
   "metadata": {},
   "outputs": [],
   "source": [
    "def load_mnist_dataset(dataset, path):\n",
    "    labels = os.listdir(os.path.join(path, dataset))\n",
    "    X = []\n",
    "    y = []\n",
    "    \n",
    "    for label in labels:\n",
    "        for file in os.listdir(os.path.join(path, dataset, label)):\n",
    "            image = cv2.imread(os.path.join(path, dataset, label, file), cv2.IMREAD_UNCHANGED)            \n",
    "            X.append(image)\n",
    "            y.append(label)\n",
    "    \n",
    "    return np.array(X), np.array(y).astype('uint8')\n",
    "\n",
    "def create_data_mnist(path):\n",
    "    X, y = load_mnist_dataset('train', path)\n",
    "    X_test, y_test = load_mnist_dataset('test', path)\n",
    "    \n",
    "    return X, y, X_test, y_test"
   ]
  },
  {
   "cell_type": "code",
   "execution_count": 3,
   "metadata": {},
   "outputs": [],
   "source": [
    "X, y, X_test, y_test = create_data_mnist('fashion_mnist_images')"
   ]
  },
  {
   "cell_type": "code",
   "execution_count": 4,
   "metadata": {},
   "outputs": [],
   "source": [
    "keys = np.array(range(X.shape[0]))\n",
    "np.random.shuffle(keys)\n",
    "X = X[keys]\n",
    "y = y[keys]"
   ]
  },
  {
   "cell_type": "code",
   "execution_count": 5,
   "metadata": {},
   "outputs": [
    {
     "name": "stdout",
     "output_type": "stream",
     "text": [
      "-1.0 1.0\n",
      "(60000, 28, 28)\n"
     ]
    }
   ],
   "source": [
    "X = (X.astype(np.float32) - 127.5) / 127.5\n",
    "X_test = (X_test.astype(np.float32) - 127.5) / 127.5\n",
    "\n",
    "print(X.min(), X.max())\n",
    "print(X.shape)"
   ]
  },
  {
   "cell_type": "code",
   "execution_count": 6,
   "metadata": {},
   "outputs": [],
   "source": [
    "X = X.reshape(X.shape[0], -1)\n",
    "X_test = X_test.reshape(X_test.shape[0], -1)"
   ]
  },
  {
   "cell_type": "code",
   "execution_count": 7,
   "metadata": {},
   "outputs": [
    {
     "name": "stdout",
     "output_type": "stream",
     "text": [
      "Class: 7\n"
     ]
    },
    {
     "data": {
      "image/png": "[encoded data removed]",
      "text/plain": [
       "<Figure size 640x480 with 1 Axes>"
      ]
     },
     "metadata": {},
     "output_type": "display_data"
    }
   ],
   "source": [
    "c = 7\n",
    "\n",
    "print(\"Class:\", y[c])\n",
    "plt.imshow((X[c].reshape(28, 28)))\n",
    "plt.show()"
   ]
  },
  {
   "cell_type": "code",
   "execution_count": 8,
   "metadata": {},
   "outputs": [
    {
     "name": "stdout",
     "output_type": "stream",
     "text": [
      "epoch: 1\n",
      "    step: 0, acc: 0.148, loss: 3.430 (data_loss: 3.430,reg_loss: 0.000), lr: 0.001\n",
      "    step: 100, acc: 0.789, loss: 0.643 (data_loss: 0.643,reg_loss: 0.000), lr: 0.0009090909090909091\n"
     ]
    },
    {
     "ename": "KeyboardInterrupt",
     "evalue": "",
     "output_type": "error",
     "traceback": [
      "\u001b[0;31m---------------------------------------------------------------------------\u001b[0m",
      "\u001b[0;31mKeyboardInterrupt\u001b[0m                         Traceback (most recent call last)",
      "Cell \u001b[0;32mIn[8], line 22\u001b[0m\n\u001b[1;32m     14\u001b[0m model\u001b[39m.\u001b[39mset(\n\u001b[1;32m     15\u001b[0m     loss\u001b[39m=\u001b[39mLoss_CategoricalCrossentropy(),\n\u001b[1;32m     16\u001b[0m     optimizer\u001b[39m=\u001b[39mOptimizer_Adam(learning_rate\u001b[39m=\u001b[39m\u001b[39m0.001\u001b[39m, decay\u001b[39m=\u001b[39m\u001b[39m1e-3\u001b[39m),\n\u001b[1;32m     17\u001b[0m     accuracy\u001b[39m=\u001b[39mAccuracy_Categorical()\n\u001b[1;32m     18\u001b[0m )\n\u001b[1;32m     20\u001b[0m model\u001b[39m.\u001b[39mfinalize()\n\u001b[0;32m---> 22\u001b[0m model\u001b[39m.\u001b[39;49mtrain(\n\u001b[1;32m     23\u001b[0m     X,\n\u001b[1;32m     24\u001b[0m     y, \n\u001b[1;32m     25\u001b[0m     validation_data\u001b[39m=\u001b[39;49m(X_test, y_test),\n\u001b[1;32m     26\u001b[0m     epochs\u001b[39m=\u001b[39;49m\u001b[39m10\u001b[39;49m, \n\u001b[1;32m     27\u001b[0m     batch_size\u001b[39m=\u001b[39;49m\u001b[39m128\u001b[39;49m, \n\u001b[1;32m     28\u001b[0m     print_every\u001b[39m=\u001b[39;49m\u001b[39m100\u001b[39;49m\n\u001b[1;32m     29\u001b[0m )\n",
      "File \u001b[0;32m~/Cloud/Laptop/Projects/Python/cnn_from_scratch/model.py:90\u001b[0m, in \u001b[0;36mModel.train\u001b[0;34m(self, X, y, epochs, batch_size, print_every, validation_data)\u001b[0m\n\u001b[1;32m     87\u001b[0m     batch_X \u001b[39m=\u001b[39m X[step\u001b[39m*\u001b[39mbatch_size:(step\u001b[39m+\u001b[39m\u001b[39m1\u001b[39m)\u001b[39m*\u001b[39mbatch_size]\n\u001b[1;32m     88\u001b[0m     batch_y \u001b[39m=\u001b[39m y[step\u001b[39m*\u001b[39mbatch_size:(step\u001b[39m+\u001b[39m\u001b[39m1\u001b[39m)\u001b[39m*\u001b[39mbatch_size]\n\u001b[0;32m---> 90\u001b[0m output \u001b[39m=\u001b[39m \u001b[39mself\u001b[39;49m\u001b[39m.\u001b[39;49mforward(batch_X, training\u001b[39m=\u001b[39;49m\u001b[39mTrue\u001b[39;49;00m)\n\u001b[1;32m     91\u001b[0m data_loss, regularization_loss \u001b[39m=\u001b[39m \u001b[39mself\u001b[39m\u001b[39m.\u001b[39mloss\u001b[39m.\u001b[39mcalculate(output, batch_y, include_regularization\u001b[39m=\u001b[39m\u001b[39mTrue\u001b[39;00m)\n\u001b[1;32m     92\u001b[0m loss \u001b[39m=\u001b[39m data_loss \u001b[39m+\u001b[39m regularization_loss\n",
      "File \u001b[0;32m~/Cloud/Laptop/Projects/Python/cnn_from_scratch/model.py:182\u001b[0m, in \u001b[0;36mModel.forward\u001b[0;34m(self, X, training)\u001b[0m\n\u001b[1;32m    179\u001b[0m \u001b[39mself\u001b[39m\u001b[39m.\u001b[39minput_layer\u001b[39m.\u001b[39mforward(X, training)\n\u001b[1;32m    181\u001b[0m \u001b[39mfor\u001b[39;00m layer \u001b[39min\u001b[39;00m \u001b[39mself\u001b[39m\u001b[39m.\u001b[39mlayers:\n\u001b[0;32m--> 182\u001b[0m     layer\u001b[39m.\u001b[39;49mforward(layer\u001b[39m.\u001b[39;49mprev\u001b[39m.\u001b[39;49moutput, training)\n\u001b[1;32m    184\u001b[0m \u001b[39mreturn\u001b[39;00m layer\u001b[39m.\u001b[39moutput\n",
      "File \u001b[0;32m~/Cloud/Laptop/Projects/Python/cnn_from_scratch/layers.py:24\u001b[0m, in \u001b[0;36mLayer_Dense.forward\u001b[0;34m(self, inputs, training)\u001b[0m\n\u001b[1;32m     22\u001b[0m \u001b[39mdef\u001b[39;00m \u001b[39mforward\u001b[39m(\u001b[39mself\u001b[39m,inputs, training):\n\u001b[1;32m     23\u001b[0m     \u001b[39mself\u001b[39m\u001b[39m.\u001b[39minputs \u001b[39m=\u001b[39m inputs\n\u001b[0;32m---> 24\u001b[0m     \u001b[39mself\u001b[39m\u001b[39m.\u001b[39moutput \u001b[39m=\u001b[39m np\u001b[39m.\u001b[39;49mdot(inputs, \u001b[39mself\u001b[39;49m\u001b[39m.\u001b[39;49mweights) \u001b[39m+\u001b[39m \u001b[39mself\u001b[39m\u001b[39m.\u001b[39mbiases\n",
      "File \u001b[0;32m<__array_function__ internals>:200\u001b[0m, in \u001b[0;36mdot\u001b[0;34m(*args, **kwargs)\u001b[0m\n",
      "\u001b[0;31mKeyboardInterrupt\u001b[0m: "
     ]
    }
   ],
   "source": [
    "model = Model()\n",
    "# Add layers\n",
    "model.add(Layer_Dense(X.shape[1], 128))\n",
    "model.add(Activation_ReLU())\n",
    "model.add(Layer_Dense(128, 128))\n",
    "model.add(Activation_ReLU())\n",
    "model.add(Layer_Dropout(0.2))\n",
    "model.add(Layer_Dense(128, 128))\n",
    "model.add(Activation_ReLU())\n",
    "model.add(Layer_Dropout(0.2))\n",
    "model.add(Layer_Dense(128, 10))\n",
    "model.add(Activation_Softmax())\n",
    "\n",
    "model.set(\n",
    "    loss=Loss_CategoricalCrossentropy(),\n",
    "    optimizer=Optimizer_Adam(learning_rate=0.001, decay=1e-3),\n",
    "    accuracy=Accuracy_Categorical()\n",
    ")\n",
    "\n",
    "model.finalize()\n",
    "\n",
    "model.train(\n",
    "    X,\n",
    "    y, \n",
    "    validation_data=(X_test, y_test),\n",
    "    epochs=10, \n",
    "    batch_size=128, \n",
    "    print_every=100\n",
    ")"
   ]
  },
  {
   "cell_type": "code",
   "execution_count": 9,
   "metadata": {},
   "outputs": [
    {
     "name": "stdout",
     "output_type": "stream",
     "text": [
      "Evaluation, acc: 0.815, loss: 0.511\n"
     ]
    }
   ],
   "source": [
    "model.evaluate(X, y)"
   ]
  },
  {
   "cell_type": "code",
   "execution_count": 10,
   "metadata": {},
   "outputs": [
    {
     "data": {
      "text/plain": [
       "[(array([[ 0.23455766, -0.08944752, -0.08549328, ...,  0.02724564,\n",
       "           0.20125451,  0.00233569],\n",
       "         [ 0.17365267,  0.19592926, -0.02080462, ...,  0.12943966,\n",
       "           0.05449581,  0.01410693],\n",
       "         [-0.01733388, -0.00662533, -0.16831924, ...,  0.02963583,\n",
       "           0.0587456 , -0.0809673 ],\n",
       "         ...,\n",
       "         [ 0.01392181,  0.0479036 , -0.11876695, ..., -0.19030514,\n",
       "           0.14043264, -0.22342093],\n",
       "         [ 0.06880933, -0.02714239,  0.02616552, ...,  0.09168021,\n",
       "           0.06829319, -0.08214921],\n",
       "         [ 0.07056453, -0.03003045, -0.14237216, ..., -0.00624369,\n",
       "           0.02237638, -0.00228123]]),\n",
       "  array([[-5.77914844e-03, -8.77775079e-03, -5.89193918e-03,\n",
       "          -3.13283067e-04,  1.46683060e-02, -1.70714978e-02,\n",
       "          -7.24187424e-03, -8.64402950e-03, -1.14378336e-02,\n",
       "          -8.30145891e-03, -1.52137741e-03, -3.76192999e-03,\n",
       "           3.68487502e-03, -3.33744440e-03, -4.36286109e-03,\n",
       "          -4.54555368e-04, -1.07647194e-02,  1.55560731e-02,\n",
       "          -8.34946912e-03, -6.90388574e-03, -1.60476132e-03,\n",
       "           9.36655236e-03,  9.95359515e-03, -5.07176597e-03,\n",
       "           1.70626099e-02, -7.61858897e-03, -1.20202031e-03,\n",
       "          -8.11300047e-04, -5.13638851e-03, -1.15969879e-03,\n",
       "          -7.91478853e-03,  5.43882964e-05,  6.12911087e-03,\n",
       "           6.80167176e-03, -4.80431228e-03, -4.25708476e-03,\n",
       "          -3.16685949e-03,  5.75958101e-03, -2.61574530e-04,\n",
       "           8.51148575e-05,  4.29115142e-03, -1.16940961e-02,\n",
       "          -5.75497753e-03,  7.09236500e-03, -1.11630999e-02,\n",
       "          -1.37703393e-03, -1.52508764e-03, -1.03634689e-02,\n",
       "           1.33436857e-03,  2.24983109e-03, -5.10947217e-03,\n",
       "          -9.53770926e-03, -6.34851341e-03,  2.18369961e-03,\n",
       "          -7.57132243e-03,  1.46934194e-02, -6.02409779e-03,\n",
       "          -8.36869056e-03, -1.00869134e-02, -1.57131672e-02,\n",
       "          -4.86719481e-03, -1.04410807e-03, -3.75827392e-03,\n",
       "          -6.53932673e-03,  4.03442155e-03,  1.11735861e-02,\n",
       "          -4.87155728e-03, -2.05036970e-04, -2.29621541e-03,\n",
       "           1.08966863e-02, -1.22532254e-02, -5.03962097e-03,\n",
       "           7.27757421e-04, -7.04211630e-03, -7.77359310e-04,\n",
       "          -3.50040620e-03, -4.87473340e-03, -3.86236617e-03,\n",
       "           2.13221081e-04,  7.07397215e-03, -1.31620391e-02,\n",
       "          -2.61575127e-03, -8.25493061e-03,  8.81453226e-03,\n",
       "          -6.57819699e-03, -9.99412230e-03,  1.54478196e-03,\n",
       "           2.76812598e-03, -2.49741929e-03, -7.22548447e-03,\n",
       "           1.37263669e-03, -1.21824452e-02, -1.16921863e-02,\n",
       "          -1.01498023e-02, -9.25775698e-03, -8.02273955e-03,\n",
       "           4.10194678e-03,  9.18527853e-04,  1.78159393e-04,\n",
       "           2.09127000e-02, -1.65441035e-03,  3.35487237e-03,\n",
       "           1.18893153e-02, -1.02812539e-02, -4.58119278e-03,\n",
       "           1.66199095e-03,  8.10855599e-03, -1.90637111e-03,\n",
       "           8.39083705e-03,  1.43821246e-03, -9.01355821e-03,\n",
       "          -1.48166771e-02, -3.03071979e-03, -7.51518038e-03,\n",
       "           2.03641159e-02,  2.70429550e-03, -1.18912183e-02,\n",
       "          -5.41802567e-03, -8.91218831e-03, -1.12636965e-02,\n",
       "          -4.13646513e-03,  1.54748971e-02, -1.91572047e-03,\n",
       "          -1.29427176e-02, -6.57207053e-03, -2.76169700e-03,\n",
       "           1.45443238e-02,  1.35609771e-02]])),\n",
       " (array([[ 0.02620833,  0.15473274,  0.04813919, ...,  0.07899137,\n",
       "          -0.03738433,  0.00978328],\n",
       "         [ 0.14566305, -0.08952703,  0.05854918, ...,  0.09401298,\n",
       "           0.00227099,  0.23862113],\n",
       "         [-0.10033285,  0.13540649,  0.02523358, ...,  0.0319093 ,\n",
       "          -0.13314671,  0.22641018],\n",
       "         ...,\n",
       "         [ 0.02437535, -0.06248205, -0.00511274, ..., -0.05727088,\n",
       "           0.04571484, -0.07457806],\n",
       "         [ 0.06104033,  0.02620351,  0.20263937, ..., -0.05180693,\n",
       "          -0.09680191, -0.24558836],\n",
       "         [-0.17421132, -0.04209738, -0.01835106, ..., -0.06919575,\n",
       "           0.00394485,  0.02443608]]),\n",
       "  array([[-9.83744119e-03, -6.26310320e-03,  1.61742178e-02,\n",
       "          -6.95795758e-03,  1.65083565e-02, -1.19106092e-02,\n",
       "          -1.56318250e-03,  1.43135047e-03, -1.46256298e-03,\n",
       "           9.38862794e-04, -5.99139581e-03, -1.97285004e-03,\n",
       "          -1.45443502e-02,  4.53107879e-03,  2.90274161e-03,\n",
       "          -8.57091797e-03,  1.81246453e-03, -2.91828735e-03,\n",
       "          -1.18852851e-02,  4.78107385e-04, -2.80227190e-03,\n",
       "          -1.33457763e-02, -9.06336898e-03, -4.07050576e-03,\n",
       "          -1.52415661e-02,  9.53177755e-03,  1.13114083e-02,\n",
       "          -4.01389954e-03, -1.19156953e-03, -1.30334431e-02,\n",
       "           7.97103453e-03, -9.88536950e-03,  2.05076768e-02,\n",
       "          -4.21290652e-03,  1.03913482e-02, -1.11173155e-02,\n",
       "          -8.80599061e-05,  0.00000000e+00, -4.24319898e-03,\n",
       "          -3.49292785e-04, -1.36989471e-03, -1.07150959e-02,\n",
       "          -1.39023847e-03, -3.28810451e-03,  3.69589901e-03,\n",
       "          -6.74903455e-04,  1.72266837e-03,  1.33088402e-02,\n",
       "          -1.12465928e-02,  2.39263602e-03, -9.79050627e-03,\n",
       "          -4.88543654e-03, -7.79954995e-03, -7.19194743e-03,\n",
       "           7.65732515e-03,  1.07352758e-02, -6.70875869e-05,\n",
       "           1.53027006e-03, -5.26872795e-03, -7.54762189e-03,\n",
       "          -1.74220355e-03, -1.50396536e-02, -3.34049778e-03,\n",
       "          -3.64959720e-03,  5.38530403e-03,  7.12490629e-03,\n",
       "          -5.03825764e-03, -1.77353623e-02,  1.20459135e-02,\n",
       "          -1.45309645e-02, -1.64950472e-02,  8.59164362e-03,\n",
       "          -9.58275373e-03,  1.38034249e-02, -1.35501606e-02,\n",
       "          -2.47304290e-03,  1.29614506e-02,  1.13614413e-02,\n",
       "           3.89880154e-04, -1.21273677e-02, -4.04093567e-03,\n",
       "           1.86233455e-02, -7.63398076e-03, -8.48385767e-03,\n",
       "          -1.90892413e-02,  2.34815307e-02, -4.03149266e-03,\n",
       "           4.07984120e-03, -1.24999379e-02,  1.47289525e-02,\n",
       "          -7.74828197e-03,  1.64435688e-02, -2.55970717e-02,\n",
       "          -1.94827540e-02,  5.86835652e-03,  6.79153541e-03,\n",
       "          -8.08210428e-03, -1.43158339e-02,  7.31348934e-03,\n",
       "          -1.71082576e-02, -1.00493243e-02, -5.97912506e-03,\n",
       "           2.54480566e-04, -6.52284339e-03, -3.86415475e-03,\n",
       "          -1.98263564e-02,  1.49485522e-02,  2.11631342e-02,\n",
       "           1.11644685e-02, -1.06730440e-02, -2.01453397e-03,\n",
       "          -6.25999802e-04, -1.60440729e-02,  1.01833551e-03,\n",
       "          -1.38658207e-02,  1.46108522e-02,  1.74828966e-02,\n",
       "          -1.20400457e-02,  1.06416557e-02, -2.54886481e-03,\n",
       "          -1.76465479e-02, -9.69342211e-03, -2.20865879e-04,\n",
       "           1.99506537e-02,  6.01984653e-03, -1.78584017e-02,\n",
       "           1.18091191e-03, -4.11217714e-03]])),\n",
       " (array([[ 0.07243029,  0.00915367,  0.11377113, ...,  0.01120248,\n",
       "           0.06322932, -0.05457239],\n",
       "         [-0.03065811,  0.00735933, -0.03137806, ..., -0.0317505 ,\n",
       "          -0.01775792, -0.18509368],\n",
       "         [-0.10446876,  0.0848439 , -0.02886682, ..., -0.03347795,\n",
       "          -0.19497298,  0.04207757],\n",
       "         ...,\n",
       "         [-0.00689712, -0.04030318,  0.00294528, ..., -0.00606184,\n",
       "           0.08718723,  0.16436831],\n",
       "         [-0.1929511 ,  0.0815699 , -0.18637777, ..., -0.08862505,\n",
       "          -0.10963248,  0.16989958],\n",
       "         [-0.16745953,  0.10649464,  0.03646202, ..., -0.20121619,\n",
       "           0.11807452, -0.04691547]]),\n",
       "  array([[-5.90275102e-04, -2.19109213e-02, -1.00246341e-02,\n",
       "          -1.13429792e-02,  8.99815414e-03,  1.00109939e-02,\n",
       "           1.34729457e-03,  3.81977425e-03,  1.84202963e-02,\n",
       "           9.75640874e-03,  1.93276421e-02,  8.77344325e-05,\n",
       "          -5.74984943e-03,  4.35498437e-03,  1.46684377e-02,\n",
       "           2.96797136e-02, -9.29493065e-03,  1.20391317e-02,\n",
       "          -1.20643168e-02, -8.14949977e-03, -1.50958349e-02,\n",
       "          -6.25526077e-03,  3.20312945e-03,  2.44947397e-02,\n",
       "           1.52395414e-02, -1.00313371e-02, -1.44717435e-02,\n",
       "          -3.83406383e-03, -1.06853064e-02,  7.55900344e-03,\n",
       "           1.05878508e-02,  1.42824077e-02, -7.32458947e-03,\n",
       "          -1.20215942e-02,  1.72299530e-02,  2.52568314e-02,\n",
       "          -1.00470819e-02,  7.49284956e-03, -9.06655071e-03,\n",
       "          -1.53373705e-02, -2.03057085e-02,  2.88947521e-03,\n",
       "           1.41253455e-02,  1.72085626e-02,  2.33364770e-02,\n",
       "           1.03396396e-02, -1.87680543e-02,  1.01665718e-02,\n",
       "           4.00464596e-03,  2.98134084e-04, -2.83695701e-02,\n",
       "           4.86974216e-03, -5.64707891e-03,  1.59989698e-02,\n",
       "          -2.03778884e-02,  3.53718988e-03,  2.00266454e-02,\n",
       "           8.57048555e-03, -3.92159545e-03,  1.31178150e-02,\n",
       "           1.32458734e-02,  1.76815588e-02,  2.21721107e-02,\n",
       "          -2.44734602e-03,  2.75588522e-03,  3.76493524e-02,\n",
       "           2.25272714e-02,  6.85220476e-03,  1.36442477e-02,\n",
       "          -3.13637544e-02,  1.29630074e-03, -1.30711490e-02,\n",
       "           5.13807014e-03,  6.74287607e-05, -6.18864378e-03,\n",
       "          -1.81760655e-03,  2.73512842e-03, -1.65766586e-02,\n",
       "          -9.76794347e-03,  1.00880815e-02,  7.18210317e-03,\n",
       "          -2.16646949e-02, -9.09550152e-03,  1.23332487e-04,\n",
       "          -7.74219871e-03, -5.89195573e-03, -2.40908916e-03,\n",
       "          -3.10174565e-03,  1.97957726e-02, -1.52311169e-03,\n",
       "          -2.50078827e-03, -6.92285247e-03,  9.46777511e-03,\n",
       "          -1.61975183e-03, -7.29863920e-03, -1.65831456e-02,\n",
       "           2.40354163e-03, -1.85753833e-02,  2.80164248e-02,\n",
       "           5.89266885e-04,  1.73836443e-02,  9.47499475e-03,\n",
       "           1.12331565e-02,  1.45199774e-02, -1.51170517e-02,\n",
       "          -1.34132340e-02,  6.47340959e-04,  5.70839386e-04,\n",
       "          -2.46130503e-03, -7.51215102e-03,  2.18095254e-02,\n",
       "          -2.23358081e-03, -4.65983305e-03, -1.30325507e-02,\n",
       "           9.97330508e-03,  7.60227845e-03,  1.54160264e-03,\n",
       "           2.12004001e-02, -1.57332260e-02,  3.74174056e-02,\n",
       "          -6.35461608e-03, -1.04736877e-02,  1.42457445e-02,\n",
       "           1.21982606e-02,  3.44167787e-03,  7.23012900e-03,\n",
       "           8.26197777e-03, -5.80647352e-03]])),\n",
       " (array([[ 0.04179563,  0.02791513,  0.07882992, ...,  0.08425559,\n",
       "          -0.16821907,  0.21673725],\n",
       "         [ 0.15841759,  0.15462574, -0.14745008, ...,  0.05869689,\n",
       "          -0.12666992,  0.06405735],\n",
       "         [-0.01465723,  0.03925406, -0.1255082 , ...,  0.05926932,\n",
       "           0.06437951, -0.00819618],\n",
       "         ...,\n",
       "         [-0.01863843,  0.03219456, -0.1709309 , ...,  0.14566337,\n",
       "           0.03912149,  0.08567882],\n",
       "         [ 0.06962502,  0.04018406,  0.05504746, ...,  0.04729833,\n",
       "          -0.05887991, -0.06535112],\n",
       "         [ 0.06254411, -0.03019209,  0.10132915, ..., -0.07420498,\n",
       "          -0.20649546,  0.07752231]]),\n",
       "  array([[-0.01720414,  0.00482992,  0.01981729, -0.00151316,  0.00384685,\n",
       "           0.00953872, -0.00072758, -0.02061018,  0.00894846,  0.00713399]]))]"
      ]
     },
     "execution_count": 10,
     "metadata": {},
     "output_type": "execute_result"
    }
   ],
   "source": [
    "model.get_parameters()"
   ]
  },
  {
   "cell_type": "code",
   "execution_count": null,
   "metadata": {},
   "outputs": [],
   "source": [
    "model.save(\"model.m\")\n",
    "model = Model.load(\"model.m\")"
   ]
  }
 ],
 "metadata": {
  "kernelspec": {
   "display_name": "Python 3",
   "language": "python",
   "name": "python3"
  },
  "language_info": {
   "codemirror_mode": {
    "name": "ipython",
    "version": 3
   },
   "file_extension": ".py",
   "mimetype": "text/x-python",
   "name": "python",
   "nbconvert_exporter": "python",
   "pygments_lexer": "ipython3",
   "version": "3.10.6"
  },
  "orig_nbformat": 4
 },
 "nbformat": 4,
 "nbformat_minor": 2
}
