{
 "cells": [
  {
   "cell_type": "code",
   "execution_count": 1,
   "metadata": {},
   "outputs": [],
   "source": [
    "import os\n",
    "import cv2\n",
    "import urllib\n",
    "import numpy as np\n",
    "import urllib.request\n",
    "from zipfile import ZipFile\n",
    "import matplotlib.pyplot as plt\n",
    "\n",
    "\n",
    "from layers import *\n",
    "from activations import *\n",
    "from metrics import *\n",
    "from optimizers import *\n",
    "from model import Model"
   ]
  },
  {
   "cell_type": "code",
   "execution_count": 4,
   "metadata": {},
   "outputs": [],
   "source": [
    "URL = \"https://nnfs.io/datasets/fashion_mnist_images.zip\"\n",
    "FILE = \"fashion_mnist_images.zip\"\n",
    "FOLDER = \"fashion_mnist_images\""
   ]
  },
  {
   "cell_type": "code",
   "execution_count": 3,
   "metadata": {},
   "outputs": [
    {
     "name": "stdout",
     "output_type": "stream",
     "text": [
      "Downloading https://nnfs.io/datasets/fashion_mnist_images.zip and saving as fashion_mnist_images.zip...\n"
     ]
    }
   ],
   "source": [
    "if not os.path.isfile(FILE):\n",
    "    print(f'Downloading {URL} and saving as {FILE}...')\n",
    "    urllib.request.urlretrieve(URL, FILE)"
   ]
  },
  {
   "cell_type": "code",
   "execution_count": 6,
   "metadata": {},
   "outputs": [
    {
     "name": "stdout",
     "output_type": "stream",
     "text": [
      "Unzipping images...\n"
     ]
    }
   ],
   "source": [
    "print('Unzipping images...')\n",
    "with ZipFile(FILE) as zip_images:\n",
    "    zip_images.extractall(FOLDER)"
   ]
  },
  {
   "cell_type": "code",
   "execution_count": 2,
   "metadata": {},
   "outputs": [],
   "source": [
    "def load_mnist_dataset(dataset, path):\n",
    "    labels = os.listdir(os.path.join(path, dataset))\n",
    "    X = []\n",
    "    y = []\n",
    "    \n",
    "    for label in labels:\n",
    "        for file in os.listdir(os.path.join(path, dataset, label)):\n",
    "            image = cv2.imread(os.path.join(path, dataset, label, file), cv2.IMREAD_UNCHANGED)            \n",
    "            X.append(image)\n",
    "            y.append(label)\n",
    "    \n",
    "    return np.array(X), np.array(y).astype('uint8')\n",
    "\n",
    "def create_data_mnist(path):\n",
    "    X, y = load_mnist_dataset('train', path)\n",
    "    X_test, y_test = load_mnist_dataset('test', path)\n",
    "    \n",
    "    return X, y, X_test, y_test"
   ]
  },
  {
   "cell_type": "code",
   "execution_count": 3,
   "metadata": {},
   "outputs": [],
   "source": [
    "X, y, X_test, y_test = create_data_mnist('fashion_mnist_images')"
   ]
  },
  {
   "cell_type": "code",
   "execution_count": 4,
   "metadata": {},
   "outputs": [],
   "source": [
    "keys = np.array(range(X.shape[0]))\n",
    "np.random.shuffle(keys)\n",
    "X = X[keys]\n",
    "y = y[keys]"
   ]
  },
  {
   "cell_type": "code",
   "execution_count": 5,
   "metadata": {},
   "outputs": [
    {
     "name": "stdout",
     "output_type": "stream",
     "text": [
      "-1.0 1.0\n",
      "(60000, 28, 28)\n"
     ]
    }
   ],
   "source": [
    "X = (X.astype(np.float32) - 127.5) / 127.5\n",
    "X_test = (X_test.astype(np.float32) - 127.5) / 127.5\n",
    "\n",
    "print(X.min(), X.max())\n",
    "print(X.shape)"
   ]
  },
  {
   "cell_type": "code",
   "execution_count": 6,
   "metadata": {},
   "outputs": [],
   "source": [
    "X = X.reshape(X.shape[0], -1)\n",
    "X_test = X_test.reshape(X_test.shape[0], -1)"
   ]
  },
  {
   "cell_type": "code",
   "execution_count": 7,
   "metadata": {},
   "outputs": [
    {
     "name": "stdout",
     "output_type": "stream",
     "text": [
      "Class: 2\n"
     ]
    },
    {
     "data": {
      "image/png": "[encoded data removed]",
      "text/plain": [
       "<Figure size 640x480 with 1 Axes>"
      ]
     },
     "metadata": {},
     "output_type": "display_data"
    }
   ],
   "source": [
    "c = 7\n",
    "\n",
    "print(\"Class:\", y[c])\n",
    "plt.imshow((X[c].reshape(28, 28)))\n",
    "plt.show()"
   ]
  },
  {
   "cell_type": "code",
   "execution_count": 8,
   "metadata": {},
   "outputs": [
    {
     "name": "stdout",
     "output_type": "stream",
     "text": [
      "epoch: 1\n",
      "    step: 0, acc: 0.070, loss: 3.589 (data_loss: 3.589,reg_loss: 0.000), lr: 0.001\n",
      "    step: 100, acc: 0.750, loss: 0.589 (data_loss: 0.589,reg_loss: 0.000), lr: 0.0009090909090909091\n",
      "    step: 200, acc: 0.812, loss: 0.459 (data_loss: 0.459,reg_loss: 0.000), lr: 0.0008333333333333334\n",
      "    step: 300, acc: 0.797, loss: 0.590 (data_loss: 0.590,reg_loss: 0.000), lr: 0.0007692307692307692\n",
      "    step: 400, acc: 0.852, loss: 0.564 (data_loss: 0.564,reg_loss: 0.000), lr: 0.0007142857142857143\n",
      "    step: 468, acc: 0.865, loss: 0.491 (data_loss: 0.491,reg_loss: 0.000), lr: 0.000681198910081744\n",
      "training, acc: 0.777, loss: 0.619 (data_loss: 0.619, reg_loss: 0.000), lr: 0.000681198910081744\n",
      "validation, acc: 0.842,loss: 0.438\n",
      "\n"
     ]
    }
   ],
   "source": [
    "model = Model()\n",
    "# Add layers\n",
    "model.add(Layer_Dense(X.shape[1], 128))\n",
    "model.add(Activation_ReLU())\n",
    "model.add(Layer_Dense(128, 128))\n",
    "model.add(Activation_ReLU())\n",
    "model.add(Layer_Dropout(0.2))\n",
    "model.add(Layer_Dense(128, 128))\n",
    "model.add(Activation_ReLU())\n",
    "model.add(Layer_Dropout(0.2))\n",
    "model.add(Layer_Dense(128, 10))\n",
    "model.add(Activation_Softmax())\n",
    "\n",
    "model.set(\n",
    "    loss=Loss_CategoricalCrossentropy(),\n",
    "    optimizer=Optimizer_Adam(learning_rate=0.001, decay=1e-3),\n",
    "    accuracy=Accuracy_Categorical()\n",
    ")\n",
    "\n",
    "model.finalize()\n",
    "\n",
    "model.train(\n",
    "    X,\n",
    "    y, \n",
    "    validation_data=(X_test, y_test),\n",
    "    epochs=1, \n",
    "    batch_size=128, \n",
    "    print_every=100\n",
    ")"
   ]
  },
  {
   "cell_type": "code",
   "execution_count": 9,
   "metadata": {},
   "outputs": [
    {
     "name": "stdout",
     "output_type": "stream",
     "text": [
      "Evaluation, acc: 0.853, loss: 0.400\n"
     ]
    }
   ],
   "source": [
    "model.evaluate(X, y) # Use test set"
   ]
  },
  {
   "cell_type": "code",
   "execution_count": 10,
   "metadata": {},
   "outputs": [],
   "source": [
    "model.save(\"model.m\")\n",
    "model = Model.load(\"model.m\")"
   ]
  },
  {
   "cell_type": "code",
   "execution_count": 15,
   "metadata": {},
   "outputs": [
    {
     "name": "stdout",
     "output_type": "stream",
     "text": [
      "[[1.94957465e-03 1.49101570e-03 4.97179274e-02 9.57964342e-03\n",
      "  8.77477177e-01 5.69132462e-04 5.63873105e-02 6.66696214e-04\n",
      "  1.61414357e-03 5.47378802e-04]]\n",
      "Coat\n"
     ]
    }
   ],
   "source": [
    "fashion_mnist_labels = {\n",
    "    0: 'T-shirt/top',\n",
    "    1: 'Trouser',\n",
    "    2: 'Pullover',\n",
    "    3: 'Dress',\n",
    "    4: 'Coat',\n",
    "    5: 'Sandal',\n",
    "    6: 'Shirt',\n",
    "    7: 'Sneaker',\n",
    "    8: 'Bag',\n",
    "    9: 'Ankle boot'\n",
    "}\n",
    "\n",
    "confidences = model.predict(X_test[:1])\n",
    "print(confidences)\n",
    "\n",
    "predictions = model.output_layer_activation.predictions(confidences)\n",
    "prediction = fashion_mnist_labels[predictions[0]]\n",
    "print(prediction)"
   ]
  },
  {
   "cell_type": "code",
   "execution_count": null,
   "metadata": {},
   "outputs": [],
   "source": []
  }
 ],
 "metadata": {
  "kernelspec": {
   "display_name": "Python 3",
   "language": "python",
   "name": "python3"
  },
  "language_info": {
   "codemirror_mode": {
    "name": "ipython",
    "version": 3
   },
   "file_extension": ".py",
   "mimetype": "text/x-python",
   "name": "python",
   "nbconvert_exporter": "python",
   "pygments_lexer": "ipython3",
   "version": "3.10.6"
  },
  "orig_nbformat": 4
 },
 "nbformat": 4,
 "nbformat_minor": 2
}
