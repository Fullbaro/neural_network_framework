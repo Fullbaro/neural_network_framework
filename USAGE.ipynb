{
 "cells": [
  {
   "cell_type": "code",
   "execution_count": 3,
   "metadata": {},
   "outputs": [],
   "source": [
    "import os\n",
    "import cv2\n",
    "import urllib\n",
    "import numpy as np\n",
    "import urllib.request\n",
    "from zipfile import ZipFile\n",
    "import matplotlib.pyplot as plt\n",
    "\n",
    "\n",
    "from layers import *\n",
    "from activations import *\n",
    "from metrics import *\n",
    "from optimizers import *\n",
    "from model import Model"
   ]
  },
  {
   "cell_type": "code",
   "execution_count": 4,
   "metadata": {},
   "outputs": [],
   "source": [
    "URL = \"https://nnfs.io/datasets/fashion_mnist_images.zip\"\n",
    "FILE = \"fashion_mnist_images.zip\"\n",
    "FOLDER = \"fashion_mnist_images\""
   ]
  },
  {
   "cell_type": "code",
   "execution_count": 3,
   "metadata": {},
   "outputs": [
    {
     "name": "stdout",
     "output_type": "stream",
     "text": [
      "Downloading https://nnfs.io/datasets/fashion_mnist_images.zip and saving as fashion_mnist_images.zip...\n"
     ]
    }
   ],
   "source": [
    "if not os.path.isfile(FILE):\n",
    "    print(f'Downloading {URL} and saving as {FILE}...')\n",
    "    urllib.request.urlretrieve(URL, FILE)"
   ]
  },
  {
   "cell_type": "code",
   "execution_count": 6,
   "metadata": {},
   "outputs": [
    {
     "name": "stdout",
     "output_type": "stream",
     "text": [
      "Unzipping images...\n"
     ]
    }
   ],
   "source": [
    "print('Unzipping images...')\n",
    "with ZipFile(FILE) as zip_images:\n",
    "    zip_images.extractall(FOLDER)"
   ]
  },
  {
   "cell_type": "code",
   "execution_count": 4,
   "metadata": {},
   "outputs": [],
   "source": [
    "def load_mnist_dataset(dataset, path):\n",
    "    labels = os.listdir(os.path.join(path, dataset))\n",
    "    X = []\n",
    "    y = []\n",
    "    \n",
    "    for label in labels:\n",
    "        for file in os.listdir(os.path.join(path, dataset, label)):\n",
    "            image = cv2.imread(os.path.join(path, dataset, label, file), cv2.IMREAD_UNCHANGED)            \n",
    "            X.append(image)\n",
    "            y.append(label)\n",
    "    \n",
    "    return np.array(X), np.array(y).astype('uint8')\n",
    "\n",
    "def create_data_mnist(path):\n",
    "    X, y = load_mnist_dataset('train', path)\n",
    "    X_test, y_test = load_mnist_dataset('test', path)\n",
    "    \n",
    "    return X, y, X_test, y_test"
   ]
  },
  {
   "cell_type": "code",
   "execution_count": 5,
   "metadata": {},
   "outputs": [],
   "source": [
    "X, y, X_test, y_test = create_data_mnist('fashion_mnist_images')"
   ]
  },
  {
   "cell_type": "code",
   "execution_count": 6,
   "metadata": {},
   "outputs": [],
   "source": [
    "keys = np.array(range(X.shape[0]))\n",
    "np.random.shuffle(keys)\n",
    "X = X[keys]\n",
    "y = y[keys]"
   ]
  },
  {
   "cell_type": "code",
   "execution_count": 7,
   "metadata": {},
   "outputs": [
    {
     "name": "stdout",
     "output_type": "stream",
     "text": [
      "-1.0 1.0\n",
      "(60000, 28, 28)\n"
     ]
    }
   ],
   "source": [
    "X = (X.astype(np.float32) - 127.5) / 127.5\n",
    "X_test = (X_test.astype(np.float32) - 127.5) / 127.5\n",
    "\n",
    "print(X.min(), X.max())\n",
    "print(X.shape)"
   ]
  },
  {
   "cell_type": "code",
   "execution_count": 8,
   "metadata": {},
   "outputs": [],
   "source": [
    "X = X.reshape(X.shape[0], -1)\n",
    "X_test = X_test.reshape(X_test.shape[0], -1)"
   ]
  },
  {
   "cell_type": "code",
   "execution_count": 9,
   "metadata": {},
   "outputs": [
    {
     "name": "stdout",
     "output_type": "stream",
     "text": [
      "Class: 7\n"
     ]
    },
    {
     "data": {
      "image/png": "[encoded data removed]",
      "text/plain": [
       "<Figure size 640x480 with 1 Axes>"
      ]
     },
     "metadata": {},
     "output_type": "display_data"
    }
   ],
   "source": [
    "c = 7\n",
    "\n",
    "print(\"Class:\", y[c])\n",
    "plt.imshow((X[c].reshape(28, 28)))\n",
    "plt.show()"
   ]
  },
  {
   "cell_type": "code",
   "execution_count": 12,
   "metadata": {},
   "outputs": [
    {
     "name": "stdout",
     "output_type": "stream",
     "text": [
      "epoch: 1\n",
      "    step: 0, acc: 0.062, loss: 3.110 (data_loss: 3.110,reg_loss: 0.000), lr: 0.001\n",
      "    step: 100, acc: 0.828, loss: 0.576 (data_loss: 0.576,reg_loss: 0.000), lr: 0.0009090909090909091\n",
      "    step: 200, acc: 0.836, loss: 0.445 (data_loss: 0.445,reg_loss: 0.000), lr: 0.0008333333333333334\n",
      "    step: 300, acc: 0.852, loss: 0.395 (data_loss: 0.395,reg_loss: 0.000), lr: 0.0007692307692307692\n",
      "    step: 400, acc: 0.859, loss: 0.487 (data_loss: 0.487,reg_loss: 0.000), lr: 0.0007142857142857143\n",
      "    step: 468, acc: 0.844, loss: 0.456 (data_loss: 0.456,reg_loss: 0.000), lr: 0.000681198910081744\n",
      "training, acc: 0.794, loss: 0.572 (data_loss: 0.572, reg_loss: 0.000), lr: 0.000681198910081744\n",
      "validation, acc: 0.840,loss: 0.440\n",
      "\n",
      "epoch: 2\n",
      "    step: 0, acc: 0.844, loss: 0.511 (data_loss: 0.511,reg_loss: 0.000), lr: 0.0006807351940095304\n",
      "    step: 100, acc: 0.820, loss: 0.488 (data_loss: 0.488,reg_loss: 0.000), lr: 0.0006373486297004461\n",
      "    step: 200, acc: 0.844, loss: 0.388 (data_loss: 0.388,reg_loss: 0.000), lr: 0.0005991611743559018\n",
      "    step: 300, acc: 0.852, loss: 0.363 (data_loss: 0.363,reg_loss: 0.000), lr: 0.0005652911249293386\n",
      "    step: 400, acc: 0.836, loss: 0.417 (data_loss: 0.417,reg_loss: 0.000), lr: 0.0005350454788657037\n",
      "    step: 468, acc: 0.865, loss: 0.392 (data_loss: 0.392,reg_loss: 0.000), lr: 0.0005162622612287042\n",
      "training, acc: 0.855, loss: 0.398 (data_loss: 0.398, reg_loss: 0.000), lr: 0.0005162622612287042\n",
      "validation, acc: 0.857,loss: 0.397\n",
      "\n",
      "epoch: 3\n",
      "    step: 0, acc: 0.836, loss: 0.429 (data_loss: 0.429,reg_loss: 0.000), lr: 0.0005159958720330237\n",
      "    step: 100, acc: 0.836, loss: 0.414 (data_loss: 0.414,reg_loss: 0.000), lr: 0.0004906771344455348\n",
      "    step: 200, acc: 0.898, loss: 0.341 (data_loss: 0.341,reg_loss: 0.000), lr: 0.0004677268475210477\n",
      "    step: 300, acc: 0.891, loss: 0.301 (data_loss: 0.301,reg_loss: 0.000), lr: 0.00044682752457551384\n",
      "    step: 400, acc: 0.875, loss: 0.371 (data_loss: 0.371,reg_loss: 0.000), lr: 0.00042771599657827206\n",
      "    step: 468, acc: 0.875, loss: 0.345 (data_loss: 0.345,reg_loss: 0.000), lr: 0.0004156275976724854\n",
      "training, acc: 0.870, loss: 0.357 (data_loss: 0.357, reg_loss: 0.000), lr: 0.0004156275976724854\n",
      "validation, acc: 0.865,loss: 0.370\n",
      "\n",
      "epoch: 4\n",
      "    step: 0, acc: 0.867, loss: 0.379 (data_loss: 0.379,reg_loss: 0.000), lr: 0.0004154549231408392\n",
      "    step: 100, acc: 0.852, loss: 0.401 (data_loss: 0.401,reg_loss: 0.000), lr: 0.00039888312724371757\n",
      "    step: 200, acc: 0.883, loss: 0.321 (data_loss: 0.321,reg_loss: 0.000), lr: 0.0003835826620636747\n",
      "    step: 300, acc: 0.891, loss: 0.295 (data_loss: 0.295,reg_loss: 0.000), lr: 0.0003694126339120798\n",
      "    step: 400, acc: 0.898, loss: 0.358 (data_loss: 0.358,reg_loss: 0.000), lr: 0.0003562522265764161\n",
      "    step: 468, acc: 0.906, loss: 0.304 (data_loss: 0.304,reg_loss: 0.000), lr: 0.00034782608695652176\n",
      "training, acc: 0.880, loss: 0.329 (data_loss: 0.329, reg_loss: 0.000), lr: 0.00034782608695652176\n",
      "validation, acc: 0.870,loss: 0.361\n",
      "\n",
      "epoch: 5\n",
      "    step: 0, acc: 0.883, loss: 0.408 (data_loss: 0.408,reg_loss: 0.000), lr: 0.0003477051460361613\n",
      "    step: 100, acc: 0.844, loss: 0.347 (data_loss: 0.347,reg_loss: 0.000), lr: 0.00033602150537634406\n",
      "    step: 200, acc: 0.922, loss: 0.266 (data_loss: 0.266,reg_loss: 0.000), lr: 0.00032509752925877764\n",
      "    step: 300, acc: 0.891, loss: 0.268 (data_loss: 0.268,reg_loss: 0.000), lr: 0.00031486146095717883\n",
      "    step: 400, acc: 0.891, loss: 0.354 (data_loss: 0.354,reg_loss: 0.000), lr: 0.00030525030525030525\n",
      "    step: 468, acc: 0.927, loss: 0.258 (data_loss: 0.258,reg_loss: 0.000), lr: 0.0002990430622009569\n",
      "training, acc: 0.888, loss: 0.311 (data_loss: 0.311, reg_loss: 0.000), lr: 0.0002990430622009569\n",
      "validation, acc: 0.872,loss: 0.350\n",
      "\n",
      "epoch: 6\n",
      "    step: 0, acc: 0.859, loss: 0.360 (data_loss: 0.360,reg_loss: 0.000), lr: 0.0002989536621823617\n",
      "    step: 100, acc: 0.883, loss: 0.335 (data_loss: 0.335,reg_loss: 0.000), lr: 0.00029027576197387516\n",
      "    step: 200, acc: 0.938, loss: 0.239 (data_loss: 0.239,reg_loss: 0.000), lr: 0.0002820874471086037\n",
      "    step: 300, acc: 0.906, loss: 0.246 (data_loss: 0.246,reg_loss: 0.000), lr: 0.00027434842249657066\n",
      "    step: 400, acc: 0.883, loss: 0.324 (data_loss: 0.324,reg_loss: 0.000), lr: 0.000267022696929239\n",
      "    step: 468, acc: 0.906, loss: 0.281 (data_loss: 0.281,reg_loss: 0.000), lr: 0.00026226068712300026\n",
      "training, acc: 0.892, loss: 0.295 (data_loss: 0.295, reg_loss: 0.000), lr: 0.00026226068712300026\n",
      "validation, acc: 0.877,loss: 0.343\n",
      "\n",
      "epoch: 7\n",
      "    step: 0, acc: 0.883, loss: 0.383 (data_loss: 0.383,reg_loss: 0.000), lr: 0.00026219192448872575\n",
      "    step: 100, acc: 0.883, loss: 0.286 (data_loss: 0.286,reg_loss: 0.000), lr: 0.00025549310168625444\n",
      "    step: 200, acc: 0.945, loss: 0.201 (data_loss: 0.201,reg_loss: 0.000), lr: 0.00024912805181863477\n",
      "    step: 300, acc: 0.922, loss: 0.252 (data_loss: 0.252,reg_loss: 0.000), lr: 0.0002430724355858046\n",
      "    step: 400, acc: 0.906, loss: 0.290 (data_loss: 0.290,reg_loss: 0.000), lr: 0.00023730422401518745\n",
      "    step: 468, acc: 0.896, loss: 0.261 (data_loss: 0.261,reg_loss: 0.000), lr: 0.00023353573096683791\n",
      "training, acc: 0.896, loss: 0.284 (data_loss: 0.284, reg_loss: 0.000), lr: 0.00023353573096683791\n",
      "validation, acc: 0.878,loss: 0.343\n",
      "\n",
      "epoch: 8\n",
      "    step: 0, acc: 0.898, loss: 0.316 (data_loss: 0.316,reg_loss: 0.000), lr: 0.00023348120476301658\n",
      "    step: 100, acc: 0.914, loss: 0.269 (data_loss: 0.269,reg_loss: 0.000), lr: 0.00022815423226100847\n",
      "    step: 200, acc: 0.938, loss: 0.207 (data_loss: 0.207,reg_loss: 0.000), lr: 0.0002230649118893598\n",
      "    step: 300, acc: 0.898, loss: 0.249 (data_loss: 0.249,reg_loss: 0.000), lr: 0.00021819768710451667\n",
      "    step: 400, acc: 0.914, loss: 0.270 (data_loss: 0.270,reg_loss: 0.000), lr: 0.00021353833013025838\n",
      "    step: 468, acc: 0.896, loss: 0.259 (data_loss: 0.259,reg_loss: 0.000), lr: 0.00021048200378867611\n",
      "training, acc: 0.901, loss: 0.273 (data_loss: 0.273, reg_loss: 0.000), lr: 0.00021048200378867611\n",
      "validation, acc: 0.879,loss: 0.340\n",
      "\n",
      "epoch: 9\n",
      "    step: 0, acc: 0.875, loss: 0.356 (data_loss: 0.356,reg_loss: 0.000), lr: 0.0002104377104377104\n",
      "    step: 100, acc: 0.906, loss: 0.270 (data_loss: 0.270,reg_loss: 0.000), lr: 0.0002061005770816158\n",
      "    step: 200, acc: 0.922, loss: 0.208 (data_loss: 0.208,reg_loss: 0.000), lr: 0.00020193861066235866\n",
      "    step: 300, acc: 0.898, loss: 0.236 (data_loss: 0.236,reg_loss: 0.000), lr: 0.0001979414093428345\n",
      "    step: 400, acc: 0.898, loss: 0.264 (data_loss: 0.264,reg_loss: 0.000), lr: 0.0001940993788819876\n",
      "    step: 468, acc: 0.917, loss: 0.218 (data_loss: 0.218,reg_loss: 0.000), lr: 0.00019157088122605365\n",
      "training, acc: 0.903, loss: 0.266 (data_loss: 0.266, reg_loss: 0.000), lr: 0.00019157088122605365\n",
      "validation, acc: 0.882,loss: 0.335\n",
      "\n",
      "epoch: 10\n",
      "    step: 0, acc: 0.883, loss: 0.313 (data_loss: 0.313,reg_loss: 0.000), lr: 0.0001915341888527102\n",
      "    step: 100, acc: 0.914, loss: 0.238 (data_loss: 0.238,reg_loss: 0.000), lr: 0.00018793459875963167\n",
      "    step: 200, acc: 0.930, loss: 0.220 (data_loss: 0.220,reg_loss: 0.000), lr: 0.00018446781036709093\n",
      "    step: 300, acc: 0.891, loss: 0.254 (data_loss: 0.254,reg_loss: 0.000), lr: 0.00018112660749864155\n",
      "    step: 400, acc: 0.922, loss: 0.282 (data_loss: 0.282,reg_loss: 0.000), lr: 0.00017790428749332856\n",
      "    step: 468, acc: 0.917, loss: 0.216 (data_loss: 0.216,reg_loss: 0.000), lr: 0.00017577781683951485\n",
      "training, acc: 0.905, loss: 0.258 (data_loss: 0.258, reg_loss: 0.000), lr: 0.00017577781683951485\n",
      "validation, acc: 0.883,loss: 0.333\n",
      "\n"
     ]
    }
   ],
   "source": [
    "model = Model()\n",
    "# Add layers\n",
    "model.add(Layer_Dense(X.shape[1], 128))\n",
    "model.add(Activation_ReLU())\n",
    "model.add(Layer_Dense(128, 128))\n",
    "model.add(Activation_ReLU())\n",
    "model.add(Layer_Dropout(0.2))\n",
    "model.add(Layer_Dense(128, 128))\n",
    "model.add(Activation_ReLU())\n",
    "model.add(Layer_Dense(128, 10))\n",
    "model.add(Activation_Softmax())\n",
    "\n",
    "model.set(\n",
    "    loss=Loss_CategoricalCrossentropy(),\n",
    "    optimizer=Optimizer_Adam(decay=1e-3),\n",
    "    accuracy=Accuracy_Categorical()\n",
    ")\n",
    "\n",
    "model.finalize()\n",
    "\n",
    "model.train(\n",
    "    X,\n",
    "    y, \n",
    "    validation_data=(X_test, y_test),\n",
    "    epochs=10, \n",
    "    batch_size=128, \n",
    "    print_every=100\n",
    ")"
   ]
  }
 ],
 "metadata": {
  "kernelspec": {
   "display_name": "Python 3",
   "language": "python",
   "name": "python3"
  },
  "language_info": {
   "codemirror_mode": {
    "name": "ipython",
    "version": 3
   },
   "file_extension": ".py",
   "mimetype": "text/x-python",
   "name": "python",
   "nbconvert_exporter": "python",
   "pygments_lexer": "ipython3",
   "version": "3.10.6"
  },
  "orig_nbformat": 4
 },
 "nbformat": 4,
 "nbformat_minor": 2
}
